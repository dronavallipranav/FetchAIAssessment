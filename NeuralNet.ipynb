{
 "cells": [
  {
   "cell_type": "code",
   "execution_count": 41,
   "id": "ad3b645e-5c22-44b7-9070-a8960361dd06",
   "metadata": {},
   "outputs": [],
   "source": [
    "import pandas as pd\n",
    "import numpy as np\n",
    "import math\n",
    "from sklearn.linear_model import LinearRegression\n",
    "from sklearn.model_selection import train_test_split\n",
    "from sklearn.metrics import mean_squared_error\n",
    "import matplotlib.pyplot as plt\n",
    "from sklearn.model_selection import TimeSeriesSplit\n",
    "import statsmodels.api as sm\n",
    "from statsmodels.tsa.holtwinters import ExponentialSmoothing\n",
    "import torch"
   ]
  },
  {
   "cell_type": "code",
   "execution_count": 42,
   "id": "cb8097f3-c002-49ee-936d-b0479dfe888b",
   "metadata": {},
   "outputs": [],
   "source": [
    "import torch\n",
    "import torch.nn as nn\n",
    "import torch.optim as optim\n",
    "\n",
    "class ShallowNet(nn.Module):\n",
    "    def __init__(self, input_size, hidden_size, output_size):\n",
    "        super(ShallowNet, self).__init__()\n",
    "        \n",
    "        self.fc1 = nn.Linear(input_size, hidden_size) \n",
    "        self.relu = nn.ReLU() \n",
    "        self.fc2 = nn.Linear(hidden_size, output_size)  \n",
    "        \n",
    "    def forward(self, x):\n",
    "        out = self.fc1(x)\n",
    "        out = self.relu(out)\n",
    "        out = self.fc2(out)\n",
    "        return out\n"
   ]
  },
  {
   "cell_type": "code",
   "execution_count": 43,
   "id": "fca93eb1-5c21-4229-95e5-033541acc442",
   "metadata": {},
   "outputs": [],
   "source": [
    "df=pd.read_csv(\"data_daily.csv\")\n",
    "df['day_number'] = np.arange(len(df))\n",
    "df['month'] = df['# Date'].str[5:7]\n",
    "df['day'] = df['# Date'].str[8:].astype('int32')\n",
    "df['lag_1'] = df['Receipt_Count'].shift(1)\n",
    "df['lag_2'] = df['Receipt_Count'].shift(2)\n",
    "df = df.dropna() "
   ]
  },
  {
   "cell_type": "code",
   "execution_count": 45,
   "id": "f99d6e9b-658e-45f1-83e6-a0c4e5eb4993",
   "metadata": {},
   "outputs": [
    {
     "name": "stdout",
     "output_type": "stream",
     "text": [
      "[[2.0000000e+00 3.0000000e+00 7.4555240e+06 7.5647660e+06]\n",
      " [3.0000000e+00 4.0000000e+00 7.0954140e+06 7.4555240e+06]\n",
      " [4.0000000e+00 5.0000000e+00 7.6661630e+06 7.0954140e+06]\n",
      " ...\n",
      " [3.6200000e+02 2.9000000e+01 1.0219445e+07 1.0350408e+07]\n",
      " [3.6300000e+02 3.0000000e+01 1.0313337e+07 1.0219445e+07]\n",
      " [3.6400000e+02 3.1000000e+01 1.0310644e+07 1.0313337e+07]]\n",
      "Epoch [100/2000], Loss: 92416090112.0000\n",
      "Epoch [200/2000], Loss: 73704374272.0000\n",
      "Epoch [300/2000], Loss: 73703964672.0000\n",
      "Epoch [400/2000], Loss: 73703505920.0000\n",
      "Epoch [500/2000], Loss: 73703006208.0000\n",
      "Epoch [600/2000], Loss: 73702440960.0000\n",
      "Epoch [700/2000], Loss: 73701818368.0000\n",
      "Epoch [800/2000], Loss: 73701171200.0000\n",
      "Epoch [900/2000], Loss: 73700384768.0000\n",
      "Epoch [1000/2000], Loss: 73699622912.0000\n",
      "Epoch [1100/2000], Loss: 73698762752.0000\n",
      "Epoch [1200/2000], Loss: 73697902592.0000\n",
      "Epoch [1300/2000], Loss: 73696976896.0000\n",
      "Epoch [1400/2000], Loss: 73696010240.0000\n",
      "Epoch [1500/2000], Loss: 73694994432.0000\n",
      "Epoch [1600/2000], Loss: 73693954048.0000\n",
      "Epoch [1700/2000], Loss: 73692864512.0000\n",
      "Epoch [1800/2000], Loss: 73691684864.0000\n",
      "Epoch [1900/2000], Loss: 73690472448.0000\n",
      "Epoch [2000/2000], Loss: 73689268224.0000\n",
      "Final Mean Squared Error on Test Data: 61133828096.0\n",
      "247252.55933154665\n"
     ]
    }
   ],
   "source": [
    "X = df[['day_number', 'day', 'lag_1', 'lag_2']].values.astype('float32')\n",
    "print(X)\n",
    "y = df['Receipt_Count'].values.astype('float32')\n",
    "X_train, X_test, y_train, y_test = train_test_split(X, y, test_size=0.2, random_state=42)\n",
    "\n",
    "X_train_tensor = torch.tensor(X_train, dtype=torch.float32)\n",
    "X_test_tensor = torch.tensor(X_test, dtype=torch.float32)\n",
    "\n",
    "y_train_tensor = torch.tensor(y_train.reshape(-1, 1), dtype=torch.float32)\n",
    "y_test_tensor = torch.tensor(y_test.reshape(-1, 1), dtype=torch.float32)\n",
    "\n",
    "input_size = X_train.shape[1]\n",
    "model = ShallowNet(input_size, 5, 1)\n",
    "criterion = nn.MSELoss()\n",
    "optimizer = optim.Adam(model.parameters(), lr=0.01)\n",
    "\n",
    "epochs = 2000\n",
    "for epoch in range(epochs):\n",
    "\n",
    "    outputs = model(X_train_tensor)\n",
    "    loss = criterion(outputs, y_train_tensor)\n",
    "    \n",
    "    optimizer.zero_grad()\n",
    "    loss.backward()\n",
    "    optimizer.step()\n",
    "    \n",
    "    if (epoch+1) % 100 == 0:\n",
    "        print(f'Epoch [{epoch+1}/{epochs}], Loss: {loss.item():.4f}')\n",
    "\n",
    "model.eval()\n",
    "with torch.no_grad():\n",
    "    y_pred = model(X_test_tensor)\n",
    "    mse = criterion(y_pred, y_test_tensor)\n",
    "    print('Final Mean Squared Error on Test Data:', mse.item())\n",
    "    rse = np.sqrt(mse.item())\n",
    "    print(rse)\n"
   ]
  },
  {
   "cell_type": "code",
   "execution_count": 40,
   "id": "3ec769bb-eb14-43cb-955d-1ffe310a9fef",
   "metadata": {},
   "outputs": [],
   "source": [
    "torch.save(model.state_dict(), 'model.pth')"
   ]
  },
  {
   "cell_type": "code",
   "execution_count": null,
   "id": "e59c88d4-6cf0-45e2-bb48-38be9fdd6198",
   "metadata": {},
   "outputs": [],
   "source": []
  }
 ],
 "metadata": {
  "kernelspec": {
   "display_name": "Python 3.11.5 64-bit",
   "language": "python",
   "name": "python3"
  },
  "language_info": {
   "codemirror_mode": {
    "name": "ipython",
    "version": 3
   },
   "file_extension": ".py",
   "mimetype": "text/x-python",
   "name": "python",
   "nbconvert_exporter": "python",
   "pygments_lexer": "ipython3",
   "version": "3.11.5"
  },
  "vscode": {
   "interpreter": {
    "hash": "aee8b7b246df8f9039afb4144a1f6fd8d2ca17a180786b69acc140d282b71a49"
   }
  }
 },
 "nbformat": 4,
 "nbformat_minor": 5
}
